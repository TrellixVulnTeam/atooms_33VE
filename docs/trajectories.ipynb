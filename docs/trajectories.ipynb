{
 "cells": [
  {
   "cell_type": "markdown",
   "id": "d815f917",
   "metadata": {},
   "source": [
    "Trajectories\n",
    "============\n",
    "\n",
    "Custom trajectory output\n",
    "------------------------\n",
    "\n",
    "We can customize the format of trajectory files using the `fields`\n",
    "variable. It contains a list of the particle properties to be written to\n",
    "the trajectory. For this simple example we use again the xyz trajectory\n",
    "format.\n",
    "\n",
    "We add a `charge` property to each particle and then instruct the\n",
    "trajectory to write it along with the position\n"
   ]
  },
  {
   "cell_type": "code",
   "execution_count": null,
   "id": "5e4f95d2",
   "metadata": {},
   "outputs": [],
   "source": [
    "from atooms.system import System, Cell, Particle\n",
    "system = System(particle=[Particle() for i in range(3)],\n",
    "\t\tcell=Cell([10.0, 10.0, 10.0]))\n",
    "\n",
    "for p in system.particle:\n",
    "    p.charge = -1.0\n",
    "\n",
    "with TrajectoryXYZ('test.xyz', 'w', fields=['position', 'charge']) as th:\n",
    "    th.write(system, step=0)\n",
    "\n",
    "with open('test.xyz') as fh:\n",
    "    print(fh.read())"
   ]
  },
  {
   "cell_type": "markdown",
   "id": "3d0db5a9",
   "metadata": {},
   "source": [
    "The `fields` list can contain any particle property, even those defined\n",
    "dynamically at run time, such as the `charge` variable above which is\n",
    "not a predefined particle property!. When reading back the trajectory,\n",
    "the `charge` property is automatically recognized and added to the\n",
    "particle.\n"
   ]
  },
  {
   "cell_type": "code",
   "execution_count": null,
   "id": "f00b8a87",
   "metadata": {},
   "outputs": [],
   "source": [
    "with TrajectoryXYZ('test.xyz') as th:\n",
    "  system = th[0]\n",
    "  print(system.particle[0].charge)"
   ]
  },
  {
   "cell_type": "markdown",
   "id": "6f272d11",
   "metadata": {},
   "source": [
    "Conversion between trajectory formats\n",
    "-------------------------------------\n",
    "\n",
    "Atooms provides means to convert between trajectory various formats. At\n",
    "a very basic level, this requires opening the original trajectory for\n",
    "reading and the new one for writing using the desired trajectory class.\n",
    "Here we convert an xyz trajectory in a format suitable for the LAMMPS\n",
    "package\n"
   ]
  },
  {
   "cell_type": "code",
   "execution_count": null,
   "id": "4d49ac8e",
   "metadata": {},
   "outputs": [],
   "source": [
    "from atooms.trajectory import TrajectoryLAMMPS\n",
    "with TrajectoryXYZ('test.xyz') as th_inp,\\\n",
    "     TrajectoryLAMMPS('test.lammps', 'w') as th_out:\n",
    "    for i, system in enumerate(th_inp):\n",
    "        th_out.write(system, th_inp.steps[i])"
   ]
  },
  {
   "cell_type": "markdown",
   "id": "19482fe1",
   "metadata": {},
   "source": [
    "The `convert()` function wraps the conversion in a more convenient\n",
    "interface\n"
   ]
  },
  {
   "cell_type": "code",
   "execution_count": null,
   "id": "cdcb6872",
   "metadata": {},
   "outputs": [],
   "source": [
    "from atooms.trajectory import convert\n",
    "convert(TrajectoryXYZ('test.xyz'), TrajectoryLAMMPS, 'test.lammps')"
   ]
  },
  {
   "cell_type": "markdown",
   "id": "621280da",
   "metadata": {},
   "source": [
    "There are several optional parameters that allows to customize the\n",
    "trajectory output, see the function signature for more details.\n",
    "\n",
    "Finally, the `trj.py` script installed by atooms allows to quickly\n",
    "convert trajectories on the command-line, which is actually the most\n",
    "frequent use case\n"
   ]
  },
  {
   "cell_type": "markdown",
   "id": "bef1cbd0",
   "metadata": {},
   "source": [
    "Although the script will do its best to guess the appropriate trajectory\n",
    "formats, it is best to provide the input and output trajectory formats\n",
    "via the `-i` and `-o` flags explicitly.\n",
    "\n",
    "Add and modify trajectory properties on the fly with callbacks\n",
    "--------------------------------------------------------------\n",
    "\n",
    "\\\"Callbacks\\\" are functions used to modify the properties of a\n",
    "trajectory on the fly. They accept a `System` instance as first\n",
    "positional argument, along with optional extra positional and keyword\n",
    "arguments, and return a modified `System`.\n",
    "\n",
    "As an example, suppose your trajectory did not provide any information\n",
    "about the cell side. You can add the information dynamically to all\n",
    "`System` objects read from the trajectory using the following callback\n"
   ]
  },
  {
   "cell_type": "code",
   "execution_count": null,
   "id": "959b1697",
   "metadata": {},
   "outputs": [],
   "source": [
    "from atooms.system import Cell\n",
    "def fix_missing_cell(system, side):\n",
    "    system.cell = Cell(side)\n",
    "    return system"
   ]
  },
  {
   "cell_type": "markdown",
   "id": "9046caf3",
   "metadata": {},
   "source": [
    "Then we add the callback to the trajectory and provide the cell side\n",
    "(here L=10 along each dimensions) as argument. Reading the trajectory is\n",
    "then done as usual.\n"
   ]
  },
  {
   "cell_type": "code",
   "execution_count": null,
   "id": "c08dc5dc",
   "metadata": {},
   "outputs": [],
   "source": [
    "from atooms.trajectory import TrajectoryXYZ\n",
    "with TrajectoryXYZ('test.xyz') as th:\n",
    "    th.add_callback(fix_missing_cell, [10., 10., 10.])\n",
    "    for system in th:\n",
    "        print(system.cell.side)"
   ]
  },
  {
   "cell_type": "markdown",
   "id": "0a4bba1f",
   "metadata": {},
   "source": [
    "Extend trajectory classes\n",
    "-------------------------\n",
    "\n",
    "Suppose you have a trajectory that looks almost like xyz, but differs in\n",
    "some way. You may want to customize the xyz trajectory format, so that\n",
    "your code can process the trajectory without manual intervention.\n",
    "\n",
    "For instance, your xyz file is `test.xyz` but the cell side information\n",
    "is stored in a separate file `test.xyz.cell`. We can proceed as before\n"
   ]
  },
  {
   "cell_type": "code",
   "execution_count": null,
   "id": "b7d3852b",
   "metadata": {},
   "outputs": [],
   "source": [
    "from atooms.system import Cell\n",
    "\n",
    "file_inp = 'test.xyz'\n",
    "with open(file_inp + '.cell') as fh:\n",
    "    # Assume the cell file contains a string Lx Ly Lz\n",
    "    # where Lx, Ly, Lz are the sides of the orthorombic cell\n",
    "    side = [float(L) for L in fh.read().split()]\n",
    "\n",
    "with TrajectoryXYZ(file_inp) as th:\n",
    "    th.add_callback(fix_missing_cell, side)"
   ]
  },
  {
   "cell_type": "markdown",
   "id": "9a2fae9e",
   "metadata": {},
   "source": [
    "As a more permanent solution, you can define your own custom trajectory\n",
    "by subclassing `TrajectoryXYZ`. First, parse the cell information during\n",
    "the initialization stage (`read_init()`).\n"
   ]
  },
  {
   "cell_type": "code",
   "execution_count": null,
   "id": "e983901a",
   "metadata": {},
   "outputs": [],
   "source": [
    "from atooms.system import Cell\n",
    "from atooms.trajectory import TrajectoryXYZ\n",
    "\n",
    "class TrajectoryCustomXYZ(TrajectoryXYZ):\n",
    "\n",
    "    def read_init(self):\n",
    "        super().read_init()\n",
    "        with open(self.filename + '.cell') as fh:\n",
    "            self._side = [float(L) for L in fh.read().split()]"
   ]
  },
  {
   "cell_type": "markdown",
   "id": "0d0a6cf1",
   "metadata": {},
   "source": [
    "Then modify the `read_sample()` method, which reads a given frame of the\n",
    "trajectory.\n"
   ]
  },
  {
   "cell_type": "code",
   "execution_count": null,
   "id": "c43e27c2",
   "metadata": {},
   "outputs": [],
   "source": [
    "    def read_sample(self, frame):\n",
    "        system = super().read_sample()\n",
    "        system.cell = Cell(self._side)\n",
    "        return system"
   ]
  }
 ],
 "metadata": {},
 "nbformat": 4,
 "nbformat_minor": 5
}
