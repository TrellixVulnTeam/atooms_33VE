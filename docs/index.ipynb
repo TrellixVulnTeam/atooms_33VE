{
 "cells": [
  {
   "cell_type": "markdown",
   "id": "06e64a3e",
   "metadata": {},
   "source": [
    "Basics\n",
    "======\n",
    "\n",
    "Atooms provides a high-level interface to the main objects of\n",
    "particle-based simulations. It mostly focuses on classical molecular\n",
    "dynamics and Monte Carlo simulations, but it is not limited to that. It\n",
    "can be used to simulate and analyze lattice models such as TASEP or\n",
    "kinetically constrained models.\n",
    "\n",
    "We will start by having a look at the basic objects of particle-based\n",
    "simulations and how to store them on a file.\n",
    "\n",
    "Particles\\' properties\n",
    "----------------------\n",
    "\n",
    "Particles\\' positions are stored as numpy arrays, but we can pass a\n",
    "simple list with x, y, z coordinates when we create them\n"
   ]
  },
  {
   "cell_type": "code",
   "execution_count": null,
   "id": "48d6e23f",
   "metadata": {},
   "outputs": [],
   "source": [
    "from atooms.system.particle import Particle\n",
    "particle = Particle(position=[1.0, 0.0, 0.0])\n",
    "print(particle.position, type(particle.position))"
   ]
  },
  {
   "cell_type": "markdown",
   "id": "bb4e8765",
   "metadata": {},
   "source": [
    "Particles can live in an arbitrary number of spatial dimensions\n"
   ]
  },
  {
   "cell_type": "code",
   "execution_count": null,
   "id": "86416993",
   "metadata": {},
   "outputs": [],
   "source": [
    "particle = Particle(position=[1.0, 0.0, 0.0, 0.0, 0.0])\n",
    "print(len(particle.position))"
   ]
  },
  {
   "cell_type": "markdown",
   "id": "dd4452d9",
   "metadata": {},
   "source": [
    "By default, particles have a few more properties such as velocity,\n",
    "chemical species, mass and radius. They can all be altered at will or\n",
    "even set to None.\n"
   ]
  },
  {
   "cell_type": "code",
   "execution_count": null,
   "id": "3ff8f5af",
   "metadata": {},
   "outputs": [],
   "source": [
    "import numpy\n",
    "particle = Particle(position=[1.0, 0.0, 0.0], velocity=[1.0, 0.0, 0.0])\n",
    "particle.species = 'Na'\n",
    "particle.position += numpy.array([0.0, 1.0, 1.0])\n",
    "particle.velocity *= 2\n",
    "particle.radius = None  # point particles have no radius\n",
    "print(particle)"
   ]
  },
  {
   "cell_type": "markdown",
   "id": "0c2cc720",
   "metadata": {},
   "source": [
    "You may want to add physical properties to particles, like charge or\n",
    "whatever. Of course, in python you can do it very easily\n"
   ]
  },
  {
   "cell_type": "code",
   "execution_count": null,
   "id": "e4a49d3b",
   "metadata": {},
   "outputs": [],
   "source": [
    "particle.charge = -1.0"
   ]
  },
  {
   "cell_type": "markdown",
   "id": "f461d616",
   "metadata": {},
   "source": [
    "This won\\'t break anything!\n",
    "\n",
    "Dealing with velocities\n",
    "-----------------------\n",
    "\n",
    "You may not need velocities at all (for instance because you are working\n",
    "with Monte Carlo simulations) but if you do, atooms provides a few\n",
    "useful methods and functions. For instance, you can assign velocity from\n",
    "a Maxwell-Boltzmann distribution at a temperature T.\n"
   ]
  },
  {
   "cell_type": "code",
   "execution_count": null,
   "id": "79433669",
   "metadata": {},
   "outputs": [],
   "source": [
    "particle = [Particle() for i in range(1000)]\n",
    "for p in particle:\n",
    "    p.maxwellian(T=1.0)\n",
    "ekin = sum([p.kinetic_energy for p in particle])\n",
    "ndim = 3\n",
    "ndof = len(particle) * ndim\n",
    "T = 2.0 / ndof * ekin\n",
    "print(T)"
   ]
  },
  {
   "cell_type": "markdown",
   "id": "0f7b8fab",
   "metadata": {},
   "source": [
    "Doing so will leave a non-zero total momentum, but we can fix it (note\n",
    "that all masses are equal)\n"
   ]
  },
  {
   "cell_type": "code",
   "execution_count": null,
   "id": "1ede9109",
   "metadata": {},
   "outputs": [],
   "source": [
    "from atooms.system.particle import fix_total_momentum, cm_velocity\n",
    "print(cm_velocity(particle))\n",
    "fix_total_momentum(particle)\n",
    "print(cm_velocity(particle))"
   ]
  },
  {
   "cell_type": "markdown",
   "id": "7a57a606",
   "metadata": {},
   "source": [
    "Boundary conditions\n",
    "-------------------\n",
    "\n",
    "To avoid major finite size effects, we enclose particles in a cell with\n",
    "periodic boundary conditions. By convention, the cell origin is at the\n",
    "origin of the reference frame.\n"
   ]
  },
  {
   "cell_type": "code",
   "execution_count": null,
   "id": "9ad21588",
   "metadata": {},
   "outputs": [],
   "source": [
    "from atooms.system.cell import Cell\n",
    "L = 2.0\n",
    "cell = Cell(side=[L, L, L])\n",
    "print(cell.side, cell.volume)"
   ]
  },
  {
   "cell_type": "markdown",
   "id": "b4a73572",
   "metadata": {},
   "source": [
    "Atooms provides means to fold particles back in the \\\"central\\\"\n",
    "simulation cell, i.e. the one centered at the origin at the reference\n",
    "frame. For simplicity, let us work with particles in 1d.\n"
   ]
  },
  {
   "cell_type": "code",
   "execution_count": null,
   "id": "9bc1df9d",
   "metadata": {},
   "outputs": [],
   "source": [
    "cell = Cell(side=1.0)\n",
    "particle = Particle(position=2.0)  # particle outside the central cell\n",
    "particle.fold(cell)\n",
    "print(particle.position)"
   ]
  },
  {
   "cell_type": "markdown",
   "id": "3a97a078",
   "metadata": {},
   "source": [
    "The particle is now folded back at the origin.\n",
    "\n",
    "A related method returns the nearest periodic image of a given particle\n",
    "with respect to another particle\n"
   ]
  },
  {
   "cell_type": "code",
   "execution_count": null,
   "id": "cc4b7543",
   "metadata": {},
   "outputs": [],
   "source": [
    "particle_1 = Particle(position=-0.45)\n",
    "particle_2 = Particle(position=+0.45)\n",
    "image = particle_1.nearest_image(particle_2, cell, copy=True)\n",
    "print(image)"
   ]
  },
  {
   "cell_type": "markdown",
   "id": "91a06a21",
   "metadata": {},
   "source": [
    "The system object\n",
    "-----------------\n",
    "\n",
    "Objects like particles and the simulation cell can be gathered in an\n",
    "instance of a god-like class called System. The system contains all the\n",
    "relevant physical objects of your simulation. Reservoirs like\n",
    "thermostats, barostats and particle reservoirs can be added as well.\n",
    "These objects are placeholders for thermodynamic state variables like\n",
    "temperature, pressure or chemical potential. Any class meant to describe\n",
    "the interaction between particles also belongs to the system.\n",
    "\n",
    "Let us build a system with a few particles in a cell and use the system\n",
    "methods to modify the system density and temperature. Note that density\n",
    "and temperature are python properties and thus modify the attributes of\n",
    "particles and cell under the hoods using the `set_density` and\n",
    "`set_temperature` methods respectively\n"
   ]
  },
  {
   "cell_type": "code",
   "execution_count": null,
   "id": "c6a2c201",
   "metadata": {},
   "outputs": [],
   "source": [
    "from atooms.system import System\n",
    "system = System(particle=[Particle() for i in range(100)],\n",
    "\t\tcell=Cell([10.0, 10.0, 10.0]))\n",
    "system.density = 1.2  # equivalent to system.set_density(1.2)\n",
    "system.temperature = 1.5  # equivalent to system.set_temperature(1.2)\n",
    "print(system.density, system.temperature)"
   ]
  },
  {
   "cell_type": "markdown",
   "id": "e9287411",
   "metadata": {},
   "source": [
    "Note that the system temperature is the kinetic one and need not\n",
    "coincide with the one of the thermostat.\n"
   ]
  },
  {
   "cell_type": "code",
   "execution_count": null,
   "id": "47400fd3",
   "metadata": {},
   "outputs": [],
   "source": [
    "from atooms.system import Thermostat\n",
    "system.thermostat = Thermostat(temperature=1.0)\n",
    "system.temperature = 1.5  # equivalent to system.set_temperature(1.2)\n",
    "print(system.temperature, system.thermostat.temperature)"
   ]
  },
  {
   "cell_type": "markdown",
   "id": "86a8c4f5",
   "metadata": {},
   "source": [
    "Interaction and backends\n",
    "------------------------\n",
    "\n",
    "Classical particles interact with each other via a potential\n",
    "$u(\\{r_i\\})$, where $\\{r_i\\}$ is the set of particles\\' coordinates.\n",
    "Atooms relies on third-party efficient **backends** written in C,\n",
    "Fortran or CUDA to actually compute the interaction between the\n",
    "particles. Here we will use the LAMMPS backend, see Molecular dynamics\n",
    "ith LAMMPS for further details. It accepts a string variable that\n",
    "defines the interaction potential using the LAMMPS syntax, see\n",
    "<https://lammps.sandia.gov/doc/pair_style.html>, and stores a reference\n",
    "to the system object of which we want to compute the energy.\n",
    "\n",
    "As proof of principle, we compute the interaction energy between two\n",
    "Lennard-Jones particles\n"
   ]
  },
  {
   "cell_type": "code",
   "execution_count": null,
   "id": "9590c4d8",
   "metadata": {},
   "outputs": [],
   "source": [
    "from atooms.system import System, Particle, Cell\n",
    "from atooms.backends.lammps import LAMMPS\n",
    "\n",
    "x = 1.122  # Minimum of the potential\n",
    "system = System(particle=[Particle(position=[0.0, 0.0, 0.0]),\n",
    "\t\t\t  Particle(position=[x, 0.0, 0.0])],\n",
    "\t\tcell=Cell([10.0, 10.0, 10.0]))\n",
    "cmd = \"\"\"\n",
    "pair_style      lj/cut 2.5\n",
    "pair_coeff      1 1 1.0 1.0  2.5\n",
    "\"\"\"\n",
    "# The backend will add an interaction to the system\n",
    "backend = LAMMPS(system, cmd)\n",
    "\n",
    "# Compute and get the potential energy\n",
    "# The cache option allows to get the potential energy without recalculating it\n",
    "print(system.potential_energy(), system.potential_energy(cache=True))"
   ]
  },
  {
   "cell_type": "markdown",
   "id": "601d546f",
   "metadata": {},
   "source": [
    "The energy and forces are stored in `system.interaction.energy` and\n",
    "`system.interaction.forces`.\n",
    "\n",
    "Trajectory files\n",
    "----------------\n",
    "\n",
    "To write the state of the system to a file, we use a `Trajectory` class.\n",
    "Trajectories are composed of multiple frames, each one holding the state\n",
    "of the system at a given step during the simulation. We use a basic xyz\n",
    "format to write the state of the system and then parse the trajectory\n",
    "file we produced to see how it looks like.\n"
   ]
  },
  {
   "cell_type": "code",
   "execution_count": null,
   "id": "c81dcd2e",
   "metadata": {},
   "outputs": [],
   "source": [
    "from atooms.trajectory import TrajectoryXYZ\n",
    "\n",
    "system = System(particle=[Particle() for i in range(4)],\n",
    "                cell=Cell([10.0, 10.0, 10.0]))\n",
    "\n",
    "# Open the trajectory in write mode and write the state of the system\n",
    "# at step 0\n",
    "with TrajectoryXYZ('test.xyz', 'w') as th:\n",
    "    th.write(system, step=0)\n",
    "\n",
    "# Read the xyz file back as plain text\n",
    "with open('test.xyz') as fh:\n",
    "    print(fh.read())"
   ]
  },
  {
   "cell_type": "markdown",
   "id": "84e03808",
   "metadata": {},
   "source": [
    "Note that trajectories are file-like objects: they must be opened and\n",
    "closed, preferably using the `with` syntax.\n",
    "\n",
    "Of course, we can write multiple frames by calling `write()` repeatedly.\n"
   ]
  },
  {
   "cell_type": "code",
   "execution_count": null,
   "id": "f863c7eb",
   "metadata": {},
   "outputs": [],
   "source": [
    "with TrajectoryXYZ('test.xyz', 'w') as th:\n",
    "    for i in range(3):\n",
    "        th.write(system, step=i*10)"
   ]
  },
  {
   "cell_type": "markdown",
   "id": "fd195db5",
   "metadata": {},
   "source": [
    "To get the system back we read the trajectory. Trajectories support\n",
    "iteration and indexing, just like lists.\n"
   ]
  },
  {
   "cell_type": "code",
   "execution_count": null,
   "id": "f0b8310a",
   "metadata": {},
   "outputs": [],
   "source": [
    "with TrajectoryXYZ('test.xyz') as th:\n",
    "    # First frame\n",
    "    system = th[0]\n",
    "    print(system.particle[0].position, system.cell.side)\n",
    "\n",
    "    # Last frame\n",
    "    system = th[-1]\n",
    "    print(system.particle[0].position, system.cell.side)\n",
    "\n",
    "    # Iterate over all frames\n",
    "    for i, system in enumerate(th):\n",
    "        print(th.steps[i], system.particle[0].position)"
   ]
  },
  {
   "cell_type": "markdown",
   "id": "5033a2bd",
   "metadata": {},
   "source": [
    "Particles on a lattice\n",
    "----------------------\n",
    "\n",
    "Suppose we want to simulate a system where particles can only be located\n",
    "at discrete sites, say a one-dimensional lattice or perhaps a network\n",
    "with a complex topology. Particle positions can then be described as\n",
    "plain integers, holding the index of the site on which a particle is\n",
    "located. We create such a system and then write it to a file in xyz\n",
    "format\n"
   ]
  },
  {
   "cell_type": "code",
   "execution_count": null,
   "id": "4984d6ff",
   "metadata": {},
   "outputs": [],
   "source": [
    "import numpy\n",
    "from atooms.system import System, Particle\n",
    "\n",
    "# Build model system with integer coordinates\n",
    "particle = [Particle() for i in range(3)]\n",
    "particle[0].position = 0\n",
    "particle[1].position = 1\n",
    "particle[2].position = 2\n",
    "system = System(particle=particle)\n",
    "\n",
    "# Write xyz trajectory\n",
    "from atooms.trajectory import TrajectoryXYZ\n",
    "with TrajectoryXYZ('test.xyz', 'w') as th:\n",
    "    th.write(system, 0)\n",
    "\n",
    "# Read the xyz file back as plain text\n",
    "with open('test.xyz') as fh:\n",
    "    print(fh.read())"
   ]
  },
  {
   "cell_type": "markdown",
   "id": "8240c882",
   "metadata": {},
   "source": [
    "Everything went fine. However, we have to tweak things a bit when\n",
    "reading the particles back, to avoid positions being transformed to\n",
    "arrays of floats instead of integers. This can be done with the help of\n",
    "a callback that transforms the system accordingly as we read the\n",
    "trajectory.\n"
   ]
  },
  {
   "cell_type": "code",
   "execution_count": null,
   "id": "ed5dcaa9",
   "metadata": {},
   "outputs": [],
   "source": [
    "# Read file as an xyz trajectory \n",
    "with TrajectoryXYZ('test.xyz') as th:\n",
    "    # We add a callback to read positions as simple integers\n",
    "    # Otherwise they are read as numpy arrays of floats.\n",
    "    def modify(system):\n",
    "        for p in system.particle:\n",
    "            p.position = int(p.position[0])\n",
    "            p.velocity = None\n",
    "            p.radius = None\n",
    "        return system\n",
    "    th.add_callback(modify)\n",
    "\n",
    "    for p in th[0].particle:\n",
    "        print(p)"
   ]
  },
  {
   "cell_type": "markdown",
   "id": "991c455a",
   "metadata": {},
   "source": [
    "Our particles have now integer coordinates. Note that, on passing, we\n",
    "have set to None velocities and radii as they are not relevant in this\n",
    "case.\n",
    "\n",
    "Simulations\n",
    "===========\n",
    "\n",
    "Within atooms, a **simulation** is a high-level class that encapsulates\n",
    "some common tasks and provides a consistent interface to the user, while\n",
    "**backends** are classes that actually make the system evolve. Here, we\n",
    "implement a minimal backend to run a simulation.\n",
    "\n",
    "At a very minimum, a backend is a class that provides\n",
    "\n",
    "-   a **system** instance variable, which should (mostly) behave like\n",
    "    `atooms.system.System`.\n",
    "-   a **run()** method, which evolves the system for a prescribed number\n",
    "    of steps (passed as argument)\n",
    "\n",
    "Optionally, the backend may hold a reference to a trajectory class,\n",
    "which can be used to checkpoint the simulation or to write\n",
    "configurations to a file. This is however not required in a first stage.\n",
    "\n",
    "A minimal simulation backend\n",
    "----------------------------\n",
    "\n",
    "We set up a bare-bones simulation backend building on the native System\n",
    "class\n"
   ]
  },
  {
   "cell_type": "code",
   "execution_count": null,
   "id": "282f1471",
   "metadata": {},
   "outputs": [],
   "source": [
    "from atooms.system import System\n",
    "\n",
    "class BareBonesBackend(object):\n",
    "    \n",
    "    def __init__(self):\n",
    "        self.system = System()\n",
    "\n",
    "    def run(self, steps):\n",
    "        for i in range(steps):\n",
    "            pass\n",
    "\n",
    "# The backend is created and wrapped by a simulation object.\n",
    "# Here we first call the run() method then run_until()\n",
    "from atooms.simulation import Simulation\n",
    "backend = BareBonesBackend()\n",
    "simulation = Simulation(backend)\n",
    "simulation.run(10)\n",
    "simulation.run_until(30)\n",
    "assert simulation.current_step == 30\n",
    "\n",
    "# This time we call run() multiple times \n",
    "simulation = Simulation(backend)\n",
    "simulation.run(10)\n",
    "simulation.run(20)\n",
    "assert simulation.current_step == 30  \n",
    "\n",
    "# Increase verbosity to see a meaningful log\n",
    "from atooms.core.utils import setup_logging\n",
    "setup_logging(level=20)\n",
    "simulation = Simulation(backend)\n",
    "simulation.run(10)  "
   ]
  },
  {
   "cell_type": "markdown",
   "id": "a763ca9b",
   "metadata": {},
   "source": [
    "Simple random walk\n",
    "------------------\n",
    "\n",
    "We implement a simple random walk in 3d. This requires adding code to\n",
    "the backend `run()` method to actually move the particles around.\n",
    "\n",
    "We start by building an empty system. Then we add a few particles and\n",
    "place them at random in a cube. Finally, we write a backend that\n",
    "displaces each particle randomly over a cube of prescribed side.\n"
   ]
  },
  {
   "cell_type": "code",
   "execution_count": null,
   "id": "65a4feb8",
   "metadata": {},
   "outputs": [],
   "source": [
    "import numpy\n",
    "from atooms.system import System\n",
    "\n",
    "# There are no particles at the beginning\n",
    "system = System()\n",
    "assert len(system.particle) == 0\n",
    "\n",
    "# Add particles\n",
    "from atooms.system.particle import Particle\n",
    "from random import random\n",
    "L = 10\n",
    "for i in range(1000):\n",
    "    p = Particle(position=[L * random(), L * random(), L * random()])\n",
    "    system.particle.append(p)\n",
    "\n",
    "class RandomWalk(object):\n",
    "\n",
    "    def __init__(self, system, delta=1.0):\n",
    "        self.system = system\n",
    "        self.delta = delta\n",
    "\n",
    "    def run(self, steps):\n",
    "        for i in range(steps):\n",
    "            for p in self.system.particle:\n",
    "                dr = numpy.array([random()-0.5, random()-0.5, random()-0.5])\n",
    "                dr *= self.delta\n",
    "                p.position += dr"
   ]
  },
  {
   "cell_type": "markdown",
   "id": "bebb7b08",
   "metadata": {},
   "source": [
    "The Simulation class provides a callback mechanism to allow execution of\n",
    "arbitrary code during the simulation. This can be used to write logs or\n",
    "particle configurations to file, or to perform on-the-fly calculations\n",
    "of the system properties. Callbacks are plain function that accept the\n",
    "simulation object as first argument. They are called at prescribed\n",
    "intervals during the simulation.\n",
    "\n",
    "Here we measure the mean square displacement (MSD) of the particles to\n",
    "make sure that the system displays a regular diffusive behavior\n",
    "$MSD \\sim t$\n"
   ]
  },
  {
   "cell_type": "code",
   "execution_count": null,
   "id": "33515f7a",
   "metadata": {},
   "outputs": [],
   "source": [
    "from atooms.simulation import Simulation\n",
    "simulation = Simulation(RandomWalk(system))\n",
    "\n",
    "# We add a callback that computes the MSD every 10 steps\n",
    "# We store the result in a dictionary passed to the callback\n",
    "msd_db = {}\n",
    "def cbk(sim, initial_position, db):\n",
    "    msd = 0.0\n",
    "    for i, p in enumerate(sim.system.particle):\n",
    "        dr = p.position - initial_position[i]\n",
    "        msd += numpy.sum(dr**2)\n",
    "    msd /= len(sim.system.particle)\n",
    "    db[sim.current_step] = msd\n",
    "\n",
    "# We will execute the callback every 10 steps\n",
    "simulation.add(cbk, 10, initial_position=[p.position.copy() for p in\n",
    "                                          system.particle], db=msd_db)\n",
    "simulation.run(50)\n",
    "\n",
    "# The MSD should increase linearly with time\n",
    "time = sorted(msd_db.keys())\n",
    "msd = [msd_db[t] for t in time]\n",
    "\n",
    "print(time, msd)\n",
    "import matplotlib.pyplot as plt\n",
    "plt.cla()\n",
    "plt.plot(time, msd, '-o')\n",
    "plt.xlabel(\"t\")\n",
    "plt.ylabel(\"MSD\")\n",
    "plt.savefig('msd.png')"
   ]
  },
  {
   "cell_type": "markdown",
   "id": "481c2340",
   "metadata": {},
   "source": [
    "The MSD as a function of time should look linear. ![](msd.png)\n",
    "\n",
    "Molecular dynamics with LAMMPS\n",
    "------------------------------\n",
    "\n",
    "Atooms provides a simulation backend for `LAMMPS`, an efficient and\n",
    "feature-rich molecular dynamics simulation package. The backend accepts\n",
    "a string variable containing regular LAMMPS commands and initial\n",
    "configuration to start the simulation. The latter can be provided in any\n",
    "of the following forms:\n",
    "\n",
    "-   a System object\n",
    "-   a Trajectory object\n",
    "-   the path to an xyz trajectory\n",
    "\n",
    "In the last two cases, the last configuration will be used to start the\n",
    "simulation.\n",
    "\n",
    "Here we we use the first configuration of an existing trajectory for a\n",
    "Lennard-Jones fluid\n"
   ]
  },
  {
   "cell_type": "code",
   "execution_count": null,
   "id": "9b84364c",
   "metadata": {},
   "outputs": [],
   "source": [
    "import atooms.trajectory as trj\n",
    "from atooms.backends.lammps import LAMMPS\n",
    "\n",
    "import os\n",
    "system = trj.TrajectoryXYZ('../../data/lj_N1000_rho1.0.xyz')[0]\n",
    "cmd = \"\"\"\n",
    "pair_style      lj/cut 2.5\n",
    "pair_coeff      1 1 1.0 1.0  2.5\n",
    "neighbor        0.3 bin\n",
    "neigh_modify    check yes\n",
    "timestep        0.002\n",
    "\"\"\"\n",
    "backend = LAMMPS(system, cmd)"
   ]
  },
  {
   "cell_type": "markdown",
   "id": "1aa555e3",
   "metadata": {},
   "source": [
    "We now wrap the backend in a simulation instance. This way we can rely\n",
    "on atooms to write thermodynamic data and configurations to disk during\n",
    "the simulation: we just add the `write_config()` and `write_thermo()`\n",
    "functions as observers to the simulations. You can add your own\n",
    "functions as observers to perform arbitrary manipulations on the system\n",
    "during the simulation. Keep in mind that calling these functions causes\n",
    "some overhead, so avoid calling them at too short intervals.\n"
   ]
  },
  {
   "cell_type": "code",
   "execution_count": null,
   "id": "d41d01e5",
   "metadata": {},
   "outputs": [],
   "source": [
    "from atooms.simulation import Simulation\n",
    "from atooms.system import Thermostat\n",
    "from atooms.simulation.observers import write_thermo, write_config\n",
    "\n",
    "# We create the simulation instance and set the output path\n",
    "sim = Simulation(backend, output_path='lammps.xyz')\n",
    "# Just store a reference to the trajectory class you want to use\n",
    "sim.trajectory_class = trj.TrajectoryXYZ\n",
    "# Write configurations every 500 steps in xyz format\n",
    "sim.add(write_config, 500)\n",
    "# Write thermodynamic properties every 500 steps\n",
    "sim.add(write_thermo, 500)"
   ]
  },
  {
   "cell_type": "markdown",
   "id": "e73e35ae",
   "metadata": {},
   "source": [
    "We add a thermostat to keep the system temperature at T=2.0 and run the\n",
    "simulations for 10000 steps.\n"
   ]
  },
  {
   "cell_type": "code",
   "execution_count": null,
   "id": "326c2e48",
   "metadata": {},
   "outputs": [],
   "source": [
    "backend.system.thermostat = Thermostat(temperature=2.0, relaxation_time=0.1)\n",
    "sim.run(10000)"
   ]
  },
  {
   "cell_type": "markdown",
   "id": "9afd42b7",
   "metadata": {},
   "source": [
    "Note that we use atooms `Thermostat` object here: the backend will take\n",
    "care of adding appropriate commands to the LAMMPS script.\n",
    "\n",
    "We have a quick look at the kinetic temperature as function of time to\n",
    "make sure the thermostat is working\n"
   ]
  },
  {
   "cell_type": "markdown",
   "id": "5882b1d4",
   "metadata": {},
   "source": [
    "![](lammps.png)\n",
    "\n",
    "We can use the\n",
    "[postprocessing](https://gitlab.info-ufr.univ-montp2.fr/atooms/postprocessing/)\n",
    "package to compute the radial distribution function\n"
   ]
  },
  {
   "cell_type": "code",
   "execution_count": null,
   "id": "ac19e8ef",
   "metadata": {},
   "outputs": [],
   "source": [
    "from atooms.postprocessing import api\n",
    "api.gr('lammps.xyz')"
   ]
  },
  {
   "cell_type": "markdown",
   "id": "50259aa6",
   "metadata": {},
   "source": [
    "![](lammps_gr.png)\n",
    "\n",
    "Energy minimization with LAMMPS\n",
    "-------------------------------\n",
    "\n",
    "It is possible to minimize the energy of a system to determine its\n",
    "so-called inherent structure using LAMMPS as a backend. To achieve this,\n",
    "atooms defines an `Optimization` class, which behaves mostly as\n",
    "`Simulation` except that it stops when the mean square total force $$\n",
    "W=\\frac{1}{N}\\sum_i |f_i|^2\n",
    "$$ is lower than a given `tolerance`.\n"
   ]
  },
  {
   "cell_type": "code",
   "execution_count": null,
   "id": "b278ccd3",
   "metadata": {},
   "outputs": [],
   "source": [
    "from atooms.trajectory import TrajectoryXYZ\n",
    "from atooms.optimization import Optimization\n",
    "from atooms.backends.lammps import EnergyMinimization\n",
    "cmd = \"\"\"\n",
    "pair_style      lj/cut 2.5\n",
    "pair_modify     shift yes\n",
    "pair_coeff      1 1 1.0 1.0 2.5\n",
    "\"\"\"\n",
    "system = TrajectoryXYZ('../../data/lj_N256_rho1.0.xyz')[0]\n",
    "bck = EnergyMinimization(system, cmd)\n",
    "opt = Optimization(bck, tolerance=1e-10)\n",
    "opt.run()"
   ]
  },
  {
   "cell_type": "markdown",
   "id": "31606ff4",
   "metadata": {},
   "source": [
    "We check that $W$ is lower than the requested tolerance\n"
   ]
  },
  {
   "cell_type": "code",
   "execution_count": null,
   "id": "56f5e032",
   "metadata": {},
   "outputs": [],
   "source": [
    "e_final = system.potential_energy(per_particle=True)\n",
    "w_final = system.force_norm_square(per_particle=True)\n",
    "print('Energy={}, mean square force={:.2g}'.format(e_final, w_final))"
   ]
  },
  {
   "cell_type": "markdown",
   "id": "ebd5927f",
   "metadata": {},
   "source": [
    "Trajectories\n",
    "============\n",
    "\n",
    "Custom trajectory output\n",
    "------------------------\n",
    "\n",
    "We can customize the format of trajectory files using the `fields`\n",
    "variable. It contains a list of the particle properties to be written to\n",
    "the trajectory. For this simple example we use again the xyz trajectory\n",
    "format.\n",
    "\n",
    "We add a `charge` property to each particle and then instruct the\n",
    "trajectory to write it along with the position\n"
   ]
  },
  {
   "cell_type": "code",
   "execution_count": null,
   "id": "b2ae70fe",
   "metadata": {},
   "outputs": [],
   "source": [
    "from atooms.system import System, Cell, Particle\n",
    "system = System(particle=[Particle() for i in range(3)],\n",
    "\t\tcell=Cell([10.0, 10.0, 10.0]))\n",
    "\n",
    "for p in system.particle:\n",
    "    p.charge = -1.0\n",
    "\n",
    "with TrajectoryXYZ('test.xyz', 'w', fields=['position', 'charge']) as th:\n",
    "    th.write(system, step=0)\n",
    "\n",
    "with open('test.xyz') as fh:\n",
    "    print(fh.read())"
   ]
  },
  {
   "cell_type": "markdown",
   "id": "c3c070d2",
   "metadata": {},
   "source": [
    "The `fields` list can contain any particle property, even those defined\n",
    "dynamically at run time, such as the `charge` variable above which is\n",
    "not a predefined particle property!. When reading back the trajectory,\n",
    "the `charge` property is automatically recognized and added to the\n",
    "particle.\n"
   ]
  },
  {
   "cell_type": "code",
   "execution_count": null,
   "id": "86bcc9d0",
   "metadata": {},
   "outputs": [],
   "source": [
    "with TrajectoryXYZ('test.xyz') as th:\n",
    "  system = th[0]\n",
    "  print(system.particle[0].charge)"
   ]
  },
  {
   "cell_type": "markdown",
   "id": "b03764ff",
   "metadata": {},
   "source": [
    "Conversion between trajectory formats\n",
    "-------------------------------------\n",
    "\n",
    "Atooms provides means to convert between trajectory various formats. At\n",
    "a very basic level, this requires opening the original trajectory for\n",
    "reading and the new one for writing using the desired trajectory class.\n",
    "Here we convert an xyz trajectory in a format suitable for the LAMMPS\n",
    "package\n"
   ]
  },
  {
   "cell_type": "code",
   "execution_count": null,
   "id": "ebfec38f",
   "metadata": {},
   "outputs": [],
   "source": [
    "from atooms.trajectory import TrajectoryLAMMPS\n",
    "with TrajectoryXYZ('test.xyz') as th_inp,\\\n",
    "     TrajectoryLAMMPS('test.lammps', 'w') as th_out:\n",
    "    for i, system in enumerate(th_inp):\n",
    "        th_out.write(system, th_inp.steps[i])"
   ]
  },
  {
   "cell_type": "markdown",
   "id": "742fb5f2",
   "metadata": {},
   "source": [
    "The `convert()` function wraps the conversion in a more convenient\n",
    "interface\n"
   ]
  },
  {
   "cell_type": "code",
   "execution_count": null,
   "id": "5f0046e6",
   "metadata": {},
   "outputs": [],
   "source": [
    "from atooms.trajectory import convert\n",
    "convert(TrajectoryXYZ('test.xyz'), TrajectoryLAMMPS, 'test.lammps')"
   ]
  },
  {
   "cell_type": "markdown",
   "id": "be1ea71b",
   "metadata": {},
   "source": [
    "There are several optional parameters that allows to customize the\n",
    "trajectory output, see the function signature for more details.\n",
    "\n",
    "Finally, the `trj.py` script installed by atooms allows to quickly\n",
    "convert trajectories on the command-line, which is actually the most\n",
    "frequent use case\n"
   ]
  },
  {
   "cell_type": "markdown",
   "id": "27bd134b",
   "metadata": {},
   "source": [
    "Although the script will do its best to guess the appropriate trajectory\n",
    "formats, it is best to provide the input and output trajectory formats\n",
    "via the `-i` and `-o` flags explicitly.\n",
    "\n",
    "Add and modify trajectory properties on the fly with callbacks\n",
    "--------------------------------------------------------------\n",
    "\n",
    "\\\"Callbacks\\\" are functions used to modify the properties of a\n",
    "trajectory on the fly. They accept a `System` instance as first\n",
    "positional argument, along with optional extra positional and keyword\n",
    "arguments, and return a modified `System`.\n",
    "\n",
    "As an example, suppose your trajectory did not provide any information\n",
    "about the cell side. You can add the information dynamically to all\n",
    "`System` objects read from the trajectory using the following callback\n"
   ]
  },
  {
   "cell_type": "code",
   "execution_count": null,
   "id": "8f248306",
   "metadata": {},
   "outputs": [],
   "source": [
    "from atooms.system import Cell\n",
    "def fix_missing_cell(system, side):\n",
    "    system.cell = Cell(side)\n",
    "    return system"
   ]
  },
  {
   "cell_type": "markdown",
   "id": "f4b2e208",
   "metadata": {},
   "source": [
    "Then we add the callback to the trajectory and provide the cell side\n",
    "(here L=10 along each dimensions) as argument. Reading the trajectory is\n",
    "then done as usual.\n"
   ]
  },
  {
   "cell_type": "code",
   "execution_count": null,
   "id": "28a490db",
   "metadata": {},
   "outputs": [],
   "source": [
    "from atooms.trajectory import TrajectoryXYZ\n",
    "with TrajectoryXYZ('test.xyz') as th:\n",
    "    th.add_callback(fix_missing_cell, [10., 10., 10.])\n",
    "    for system in th:\n",
    "        print(system.cell.side)"
   ]
  },
  {
   "cell_type": "markdown",
   "id": "8d6c95c1",
   "metadata": {},
   "source": [
    "Extend trajectory classes\n",
    "-------------------------\n",
    "\n",
    "Suppose you have a trajectory that looks almost like xyz, but differs in\n",
    "some way. You may want to customize the xyz trajectory format, so that\n",
    "your code can process the trajectory without manual intervention.\n",
    "\n",
    "For instance, your xyz file is `test.xyz` but the cell side information\n",
    "is stored in a separate file `test.xyz.cell`. We can proceed as before\n"
   ]
  },
  {
   "cell_type": "code",
   "execution_count": null,
   "id": "3845f72b",
   "metadata": {},
   "outputs": [],
   "source": [
    "from atooms.system import Cell\n",
    "\n",
    "file_inp = 'test.xyz'\n",
    "with open(file_inp + '.cell') as fh:\n",
    "    # Assume the cell file contains a string Lx Ly Lz\n",
    "    # where Lx, Ly, Lz are the sides of the orthorombic cell\n",
    "    side = [float(L) for L in fh.read().split()]\n",
    "\n",
    "with TrajectoryXYZ(file_inp) as th:\n",
    "    th.add_callback(fix_missing_cell, side)"
   ]
  },
  {
   "cell_type": "markdown",
   "id": "0c415187",
   "metadata": {},
   "source": [
    "As a more permanent solution, you can define your own custom trajectory\n",
    "by subclassing `TrajectoryXYZ`. First, parse the cell information during\n",
    "the initialization stage (`read_init()`).\n"
   ]
  },
  {
   "cell_type": "code",
   "execution_count": null,
   "id": "6461f721",
   "metadata": {},
   "outputs": [],
   "source": [
    "from atooms.system import Cell\n",
    "from atooms.trajectory import TrajectoryXYZ\n",
    "\n",
    "class TrajectoryCustomXYZ(TrajectoryXYZ):\n",
    "\n",
    "    def read_init(self):\n",
    "        super().read_init()\n",
    "        with open(self.filename + '.cell') as fh:\n",
    "            self._side = [float(L) for L in fh.read().split()]"
   ]
  },
  {
   "cell_type": "markdown",
   "id": "71d9b61b",
   "metadata": {},
   "source": [
    "Then modify the `read_sample()` method, which reads a given frame of the\n",
    "trajectory.\n"
   ]
  },
  {
   "cell_type": "code",
   "execution_count": null,
   "id": "6664036f",
   "metadata": {},
   "outputs": [],
   "source": [
    "    def read_sample(self, frame):\n",
    "        system = super().read_sample()\n",
    "        system.cell = Cell(self._side)\n",
    "        return system"
   ]
  }
 ],
 "metadata": {},
 "nbformat": 4,
 "nbformat_minor": 5
}
